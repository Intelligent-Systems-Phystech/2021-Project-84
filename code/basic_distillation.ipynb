{
 "cells": [
  {
   "cell_type": "code",
   "execution_count": null,
   "metadata": {},
   "outputs": [],
   "source": [
    "from resnet import *\n",
    "from cifar_very_tiny import *\n",
    "from cifar_dataset import *    \n",
    "import torch as t \n",
    "import numpy as np\n",
    "import tqdm\n",
    "import matplotlib.pylab as plt\n",
    "import matplotlib.cm as cm\n",
    "%matplotlib inline\n",
    "plt.rcParams['figure.figsize']=(12,9)\n",
    "plt.rcParams['font.size']= 20"
   ]
  },
  {
   "cell_type": "code",
   "execution_count": null,
   "metadata": {},
   "outputs": [],
   "source": [
    "train_loader, test_loader, train_loader_no_augumentation = cifar10_loader(batch_size=128)"
   ]
  },
  {
   "cell_type": "code",
   "execution_count": null,
   "metadata": {},
   "outputs": [],
   "source": [
    "device = 'cuda' if torch.cuda.is_available() else 'cpu'\n",
    "epoch_num = 50\n",
    "basic_results = [] # результаты без дистилляции. Каждый элемент списка - accuracy\n",
    "resnet_results = [] # результаты с дистилляцией ResNet. Каждый элемент списка - кортеж вида (accuracy, beta, temp)\n",
    "cnn_results = [] # результаты с дистилляцией CNN. Каждый элемент списка - кортеж вида (accuracy, beta, temp)"
   ]
  },
  {
   "cell_type": "code",
   "execution_count": null,
   "metadata": {},
   "outputs": [],
   "source": [
    "def accuracy(student):\n",
    "        total = 0 \n",
    "        correct = 0\n",
    "        with t.no_grad():\n",
    "            for x,y in test_loader:\n",
    "                x = x.to(device)\n",
    "                y = y.to(device)\n",
    "                out = student(x)\n",
    "                correct += t.eq(t.argmax(out, 1), y).sum()\n",
    "                total+=len(x)\n",
    "        return (correct/total).cpu().detach().numpy()"
   ]
  },
  {
   "cell_type": "code",
   "execution_count": null,
   "metadata": {},
   "outputs": [],
   "source": [
    "# 5 запусков --- без дистилляции"
   ]
  },
  {
   "cell_type": "code",
   "execution_count": null,
   "metadata": {},
   "outputs": [],
   "source": [
    "for _ in range(5):\n",
    "    student = Cifar_Very_Tiny(10).to(device)\n",
    "    optim = t.optim.Adam(student.parameters())\n",
    "    crit = nn.CrossEntropyLoss()\n",
    "    for _ in range(epoch_num):\n",
    "        tq = tqdm.tqdm(train_loader_no_augumentation)\n",
    "        losses = []\n",
    "        for x,y in tq:\n",
    "            x = x.to(device)\n",
    "            y = y.to(device)\n",
    "            student.zero_grad()\n",
    "            out = student(x)\n",
    "            loss = crit(student(x), y)\n",
    "            losses.append(loss.cpu().detach().numpy())\n",
    "            loss.backward()\n",
    "            optim.step()\n",
    "            tq.set_description('current loss:{}'.format(np.mean(losses[-10:])))\n",
    "    basic_results.append(accuracy(student))\n",
    "    print ('accuracy', basic_results[-1])"
   ]
  },
  {
   "cell_type": "code",
   "execution_count": null,
   "metadata": {},
   "outputs": [],
   "source": [
    "# 20 запусков --- с ResNet\n",
    "logits = np.load('./logits_resnet.npy')\n",
    "for _ in range(20):\n",
    "    beta = np.random.uniform()\n",
    "    temp = 10**(np.random.uniform(low=-1, high=1)) # температура от 0.1 до 10\n",
    "    print ('hyperparameters', beta, temp)\n",
    "    student = Cifar_Very_Tiny(10).to(device)\n",
    "    optim = t.optim.Adam(student.parameters())\n",
    "    crit = nn.CrossEntropyLoss()\n",
    "    for _ in range(epoch_num):\n",
    "        tq = tqdm.tqdm(train_loader_no_augumentation)\n",
    "        losses = []\n",
    "        for batch_id, (x,y) in enumerate(tq):\n",
    "            x = x.to(device)\n",
    "            y = y.to(device)\n",
    "            batch_logits = t.Tensor(logits[128*batch_id:128*(batch_id+1)]).to(device)            \n",
    "            student.zero_grad()\n",
    "            out = student(x)\n",
    "            student_loss = crit(student(x), y)\n",
    "            distillation_loss = 0.0 # здесь твой код!\n",
    "            loss = (1-beta) * student_loss + beta*distillation_loss\n",
    "            losses.append(loss.cpu().detach().numpy())\n",
    "            loss.backward()\n",
    "            optim.step()\n",
    "            tq.set_description('current loss:{}'.format(np.mean(losses[-10:])))\n",
    "    resnet_results.append((accuracy(student), beta, temp))\n",
    "    print ('accuracy', resnet_results[-1])"
   ]
  },
  {
   "cell_type": "code",
   "execution_count": null,
   "metadata": {},
   "outputs": [],
   "source": [
    "# 20 запусков --- с CNN\n",
    "logits = np.load('./logits_cnn.npy')\n",
    "for _ in range(20):\n",
    "    beta = np.random.uniform()\n",
    "    temp = 10**(np.random.uniform(low=-1, high=1)) # температура от 0.1 до 10  \n",
    "    print ('hyperparameters', beta, temp)\n",
    "    student = Cifar_Very_Tiny(10).to(device)\n",
    "    optim = t.optim.Adam(student.parameters())\n",
    "    crit = nn.CrossEntropyLoss()\n",
    "    for _ in range(epoch_num):\n",
    "        tq = tqdm.tqdm(train_loader_no_augumentation)\n",
    "        losses = []\n",
    "        for batch_id, (x,y) in enumerate(tq):\n",
    "            x = x.to(device)\n",
    "            y = y.to(device)            \n",
    "            batch_logits = t.Tensor(logits[128*batch_id:128*(batch_id+1)]).to(device)            \n",
    "            student.zero_grad()\n",
    "            out = student(x)\n",
    "            student_loss = crit(student(x), y)\n",
    "            distillation_loss = 0.0 # здесь твой код!\n",
    "            loss = (1-beta) * student_loss + beta*distillation_loss\n",
    "            losses.append(loss.cpu().detach().numpy())\n",
    "            loss.backward()\n",
    "            optim.step()\n",
    "            tq.set_description('current loss:{}'.format(np.mean(losses[-10:])))\n",
    "    cnn_results.append((accuracy(student), beta, temp))\n",
    "    print ('accuracy', cnn_results[-1])"
   ]
  },
  {
   "cell_type": "code",
   "execution_count": null,
   "metadata": {},
   "outputs": [],
   "source": [
    "# график, разрез beta-accuracy\n",
    "plt.scatter([0]*len(basic_results), basic_results, c='r', label='Без дистилляции')\n",
    "plt.scatter([r[1] for r in cnn_results], [r[0] for r in cnn_results], c='r', marker='x', label='Дистилляция ResNet')\n",
    "plt.scatter([r[1] for r in resnet_results], [r[0] for r in resnet_results], c='r', marker='d', label='Дистилляция CNN')\n",
    "plt.legend(loc='best')\n",
    "plt.xlabel('Beta')\n",
    "plt.ylabel('Accuracy')\n",
    "plt.savefig('scatter_beta_acc.png')"
   ]
  },
  {
   "cell_type": "code",
   "execution_count": null,
   "metadata": {},
   "outputs": [],
   "source": [
    "# график, разрез accuracy-Temp\n",
    "plt.scatter([0.0]*len(basic_results), basic_results, c='r', label='Без дистилляции')\n",
    "plt.scatter([np.log10(r[2]) for r in cnn_results], [r[0] for r in cnn_results], c='r', marker='x', label='Дистилляция ResNet')\n",
    "plt.scatter([np.log10(r[2]) for r in resnet_results], [r[0] for r in resnet_results], c='r', marker='d', label='Дистилляция CNN')\n",
    "plt.legend(loc='best')\n",
    "plt.xlabel('log(T)')\n",
    "plt.ylabel('Accuracy')\n",
    "plt.savefig('scatter_temp_acc.png')"
   ]
  },
  {
   "cell_type": "code",
   "execution_count": null,
   "metadata": {},
   "outputs": [],
   "source": [
    "# график, разрез Temp-beta. Цвет --- точность относительно всех результатов\n",
    "\n",
    "# для резульатов без дистилляции у нас будут повторяющиеся точки. \n",
    "# обычно в таком случае в график вносят небольшой шум, чтобы точки можно было визуально различить\n",
    "eps = 0.02 \n",
    "\n",
    "all_results = basic_results+[r[0] for r in cnn_results] + [r[0] for r in resnet_results]\n",
    "max_ = np.max(all_results)\n",
    "min_ = np.min(all_results)\n",
    "colors = [cm.seismic((r-min_)/(max_-min_)) for r in basic_results]\n",
    "plt.scatter(np.random.randn(len(basic_results))*eps, np.random.randn(len(basic_results))*eps, c=colors, label='Без дистилляции')\n",
    "colors = [cm.seismic((r[0]-min_)/(max_-min_)) for r in cnn_results]\n",
    "plt.scatter([np.log10(r[2]) + np.random.randn()*eps for r in cnn_results], [r[1] + np.random.randn()*eps for r in cnn_results], c=colors, marker='x', label='Дистилляция ResNet')\n",
    "colors = [cm.seismic((r[0]-min_)/(max_-min_)) for r in resnet_results]\n",
    "plt.scatter([np.log10(r[2]) + np.random.randn()*eps for r in resnet_results], [r[1] + np.random.randn()*eps for r in resnet_results], c=colors, marker='d', label='Дистилляция CNN')\n",
    "plt.legend(loc='best')\n",
    "plt.xlabel('log(T)')\n",
    "plt.ylabel('Beta')\n",
    "plt.savefig('scatter_temp_beta.png')"
   ]
  },
  {
   "cell_type": "code",
   "execution_count": null,
   "metadata": {},
   "outputs": [],
   "source": []
  }
 ],
 "metadata": {
  "kernelspec": {
   "display_name": "Python 3.8.5 64-bit",
   "language": "python",
   "name": "python38564bit27c804ee6bca43ae8f05b1b2357dc288"
  },
  "language_info": {
   "codemirror_mode": {
    "name": "ipython",
    "version": 3
   },
   "file_extension": ".py",
   "mimetype": "text/x-python",
   "name": "python",
   "nbconvert_exporter": "python",
   "pygments_lexer": "ipython3",
   "version": "3.8.5"
  }
 },
 "nbformat": 4,
 "nbformat_minor": 4
}
