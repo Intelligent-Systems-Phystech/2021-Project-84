{
 "cells": [
  {
   "cell_type": "code",
   "execution_count": null,
   "metadata": {
    "id": "624Ky70AYVED"
   },
   "outputs": [],
   "source": [
    "from resnet import *\n",
    "from cifar_very_tiny import *\n",
    "from cifar_dataset import *    \n",
    "import torch as t \n",
    "import numpy as np\n",
    "import tqdm\n",
    "import matplotlib.pylab as plt\n",
    "import matplotlib.cm as cm\n",
    "import json\n",
    "import hyperparams\n",
    "from importlib import reload\n",
    "\n",
    "%matplotlib inline\n",
    "plt.rcParams['figure.figsize']=(12,9)\n",
    "plt.rcParams['font.size']= 20"
   ]
  },
  {
   "cell_type": "code",
   "execution_count": null,
   "metadata": {
    "colab": {
     "base_uri": "https://localhost:8080/",
     "height": 135,
     "referenced_widgets": [
      "53248d8fbab446d8a72db271cf823d95",
      "bedde58028144bacab1f4bfa8963bc8b",
      "850d3abafbe64e578a463a0a2db1bb99",
      "c978d46124164b9aaed7c1ff7b20310f",
      "17b7b0af2d0d44bd8ce06e58ace197a8",
      "e7529646346a4d739d233314cfce210c",
      "1d8bc56fc12e40889bd1df1483a0d73d",
      "e9d22b3f83974cc98264bb8305f6e9cd"
     ]
    },
    "id": "ukmqq2i5YVEF",
    "outputId": "1ad65227-b86e-4dc2-a757-893687bd5990"
   },
   "outputs": [],
   "source": [
    "# добавил в загрузку валидационную выборку\n",
    "# обрати внимание, maxsize --- это размер совокпного обучения и валидации\n",
    "# поэтому размер обучающей выборки совпадает с тем, что было до этого\n",
    "_, test_loader, train_loader_no_augumentation, valid_loader = cifar10_loader(batch_size=128, split_train_val=True,\n",
    "                                                                             maxsize=10112*2)"
   ]
  },
  {
   "cell_type": "code",
   "execution_count": null,
   "metadata": {
    "id": "IvO4c1B3YVEG"
   },
   "outputs": [],
   "source": [
    "device = 'cuda' if torch.cuda.is_available() else 'cpu'\n",
    "epoch_num = 50\n",
    "run_num = 5 # количество запусков эксперимента\n",
    "# версия нужна, чтобы различать старые и новые результаты экспериментов. \n",
    "# менять нужно каждый раз, когда есть хотя бы незначительные изменения в эксперименте\n",
    "experiment_version = '1' \n",
    "\n",
    "validate_every_epoch = 5 # каждые 5 эпох отслеживать параметры модели\n",
    "\n",
    "# с этими гиперпараметрами мы начинаем эксперименты\n",
    "start_beta = 0.3 \n",
    "start_temp  = 10**(0.5)\n"
   ]
  },
  {
   "cell_type": "code",
   "execution_count": null,
   "metadata": {
    "id": "wsc9ercWYVEG"
   },
   "outputs": [],
   "source": [
    "def accuracy(student):\n",
    "        student.eval()\n",
    "        total = 0 \n",
    "        correct = 0\n",
    "        with t.no_grad():\n",
    "            for x,y in test_loader:\n",
    "                x = x.to(device)\n",
    "                y = y.to(device)\n",
    "                out = student(x)\n",
    "                correct += t.eq(t.argmax(out, 1), y).sum()\n",
    "                total+=len(x)\n",
    "        student.train()\n",
    "        return (correct/total).cpu().detach().numpy()"
   ]
  },
  {
   "cell_type": "code",
   "execution_count": null,
   "metadata": {
    "colab": {
     "base_uri": "https://localhost:8080/"
    },
    "id": "llpZl0mvYVEH",
    "outputId": "b387c749-dd55-4c1b-98aa-d392a17455eb"
   },
   "outputs": [],
   "source": [
    "# запуск без дистилляции\n",
    "for _ in range(run_num):\n",
    "    internal_results = []\n",
    "    student = Cifar_Very_Tiny(10).to(device)\n",
    "    optim = t.optim.Adam(student.parameters())    \n",
    "    crit = nn.CrossEntropyLoss()\n",
    "    for e in range(epoch_num):\n",
    "        tq = tqdm.tqdm(train_loader_no_augumentation)\n",
    "        losses = []\n",
    "        for x,y in tq:\n",
    "            x = x.to(device)\n",
    "            y = y.to(device)\n",
    "            student.zero_grad()            \n",
    "            loss = crit(student(x), y)\n",
    "            losses.append(loss.cpu().detach().numpy())\n",
    "            loss.backward()\n",
    "            optim.step()\n",
    "            tq.set_description('current loss:{}'.format(np.mean(losses[-10:])))        \n",
    "        if e==0 or (e+1)%validate_every_epoch == 0: # если номер эпохи делится на 5 или эпоха - первая             \n",
    "            test_loss = []\n",
    "            student.eval()\n",
    "            for x,y in test_loader:\n",
    "                x = x.to(device)\n",
    "                y = y.to(device)                            \n",
    "                test_loss.append(crit(student(x), y).detach().cpu().numpy())                 \n",
    "            test_loss = float(np.mean(test_loss))\n",
    "            acc = float(accuracy(student))\n",
    "            student.train()\n",
    "            internal_results.append({'epoch': e, 'test loss':test_loss, 'accuracy':acc})\n",
    "            print (internal_results[-1])\n",
    "\n",
    "    with open('exp2_basic.jsonl', 'a') as out:\n",
    "        out.write(json.dumps({'results':internal_results, 'version': experiment_version})+'\\n')\n",
    "    "
   ]
  },
  {
   "cell_type": "code",
   "execution_count": null,
   "metadata": {},
   "outputs": [],
   "source": [
    "kl = nn.KLDivLoss(reduction='batchmean')\n",
    "sm = nn.Softmax(dim=1)\n",
    "\n",
    "def distill(out, batch_logits, temp):\n",
    "    g = sm(out/temp)\n",
    "    f = F.log_softmax(batch_logits/temp)    \n",
    "    return kl(f, g)"
   ]
  },
  {
   "cell_type": "code",
   "execution_count": null,
   "metadata": {
    "id": "KyzIp3KSenYi"
   },
   "outputs": [],
   "source": [
    "# Запуск --- с CNN-дистилляцией\n",
    "# в качестве значений гиперпараметров ставим  start_beta, start_temp\n",
    "logits = np.load('./logits_cnn.npy')\n",
    "for _ in range(run_num):\n",
    "    internal_results = []\n",
    "    beta = start_beta\n",
    "    temp = start_temp\n",
    "    student = Cifar_Very_Tiny(10).to(device)\n",
    "    optim = t.optim.Adam(student.parameters())   \n",
    "    crit = nn.CrossEntropyLoss()\n",
    "    for e in range(epoch_num):\n",
    "        tq = tqdm.tqdm(train_loader_no_augumentation)\n",
    "        losses = []\n",
    "        for batch_id, (x,y) in enumerate(tq):\n",
    "            x = x.to(device)\n",
    "            y = y.to(device)            \n",
    "            batch_logits = t.Tensor(logits[128*batch_id:128*(batch_id+1)]).to(device)            \n",
    "            student.zero_grad()\n",
    "            out = student(x)\n",
    "            student_loss = crit(out, y)            \n",
    "            distillation_loss = distill(out, batch_logits, temp)\n",
    "            loss = (1-beta) * student_loss + beta*distillation_loss\n",
    "            losses.append(loss.cpu().detach().numpy())\n",
    "            loss.backward()\n",
    "            optim.step()\n",
    "            tq.set_description('current loss:{}'.format(np.mean(losses[-10:])))\n",
    "        if e==0 or (e+1)%validate_every_epoch == 0: # если номер эпохи делится на 5 или эпоха - первая             \n",
    "            test_loss = []\n",
    "            student.eval()\n",
    "            for x,y in test_loader:\n",
    "                x = x.to(device)\n",
    "                y = y.to(device)                            \n",
    "                test_loss.append(crit(student(x), y).detach().cpu().numpy())                 \n",
    "            test_loss = float(np.mean(test_loss))\n",
    "            acc = float(accuracy(student))\n",
    "            student.train()\n",
    "            internal_results.append({'epoch': e, 'test loss':test_loss, 'accuracy':acc})\n",
    "            print (internal_results[-1])\n",
    "\n",
    "            \n",
    "    with open('exp2_cnn_distil_adam.jsonl', 'a') as out:\n",
    "        out.write(json.dumps({'results':internal_results, 'version': experiment_version})+'\\n')"
   ]
  },
  {
   "cell_type": "code",
   "execution_count": null,
   "metadata": {},
   "outputs": [],
   "source": [
    "# Запуск --- с CNN-дистилляцией и оптимизацией гиперпараметров\n",
    "crit = nn.CrossEntropyLoss()\n",
    "\n",
    "# определяем функцию потерь как замкнутую относительно аргументов функцию\n",
    "# нужно для подсчета градиентов гиперпараметров по двухуровневой оптимизации\n",
    "def param_loss(batch,model,h):\n",
    "    x,y,batch_logits = batch\n",
    "    beta,temp = h\n",
    "    out = model(x)\n",
    "    distillation_loss = distill(out, batch_logits, torch.maximum(min_temp, temp))\n",
    "    student_loss = crit(out, y)            \n",
    "    beta = t.clamp(beta, 0.01, 0.99)\n",
    "    temp = t.clamp(temp, 0.1, 10.0)\n",
    "    loss = (1-beta) * student_loss + beta*distillation_loss\n",
    "    return loss\n",
    "\n",
    "# определяем функцию валидационную функцию потерь как замкнутую относительно аргументов функцию\n",
    "# нужно для подсчета градиентов гиперпараметров по двухуровневой оптимизации\n",
    "def hyperparam_loss(batch, model):\n",
    "    x,y = batch\n",
    "    out = model(x)\n",
    "    student_loss = crit(out, y)            \n",
    "    return student_loss\n",
    "\n",
    "logits = np.load('./logits_cnn.npy')\n",
    "for _ in range(run_num):\n",
    "    internal_results = []\n",
    "    \n",
    "    # теперь beta и temp - не числа, а тензоры, по которым можно считать градиент\n",
    "    beta = t.nn.Parameter(t.tensor(np.random.uniform(), device=device), requires_grad=True)\n",
    "    temp = t.nn.Parameter(t.tensor(10**np.random.uniform(low=-1, high=1), device=device), requires_grad=True)\n",
    "    h = [beta, temp]\n",
    "    \n",
    "    student = Cifar_Very_Tiny(10).to(device)\n",
    "    optim = t.optim.Adam(student.parameters())   \n",
    "    \n",
    "    # параметры Adam и функцию подсчета градиента \n",
    "    # взял из статьи по DARTS (выбор архитектуры сети градиентными методами)\n",
    "    # там также используется оптимизация гиперпараметров\n",
    "    optim2 = t.optim.Adam(h,  betas=(0.5, 0.999))   \n",
    "    hyper_grad_calc = hyperparams.AdamHyperGradCalculator(student, param_loss, hyperparam_loss, optim, h)\n",
    "    \n",
    "    \n",
    "    for e in range(epoch_num * 4): # хочется посмотреть куда сойдутся гиперпараметры, поэтому возьмем побольше эпох\n",
    "        tq = tqdm.tqdm(zip(train_loader_no_augumentation, valid_loader))\n",
    "        losses = []\n",
    "        for batch_id, ((x,y), (v_x, v_y)) in enumerate(tq):\n",
    "            x = x.to(device)\n",
    "            y = y.to(device)            \n",
    "            v_x = v_x.to(device)\n",
    "            v_y = v_y.to(device)            \n",
    "            batch_logits = t.Tensor(logits[128*batch_id:128*(batch_id+1)]).to(device) \n",
    "            \n",
    "            optim2.zero_grad()            \n",
    "            hyper_grad_calc.calc_gradients((x,y,batch_logits), (v_x, v_y))\n",
    "            \n",
    "            optim2.step()\n",
    "            optim.zero_grad()\n",
    "            loss = param_loss((x,y,batch_logits), student,h)\n",
    "            losses.append(loss.cpu().detach().numpy())\n",
    "            loss.backward()\n",
    "            optim.step()\n",
    "            tq.set_description('current loss:{}'.format(np.mean(losses[-10:])))\n",
    "        if e==0 or (e+1)%validate_every_epoch == 0: # если номер эпохи делится на 5 или эпоха - первая             \n",
    "            test_loss = []\n",
    "            student.eval()\n",
    "            for x,y in test_loader:\n",
    "                x = x.to(device)\n",
    "                y = y.to(device)                            \n",
    "                test_loss.append(crit(student(x), y).detach().cpu().numpy())                 \n",
    "            test_loss = float(np.mean(test_loss))\n",
    "            acc = float(accuracy(student))\n",
    "            student.train()\n",
    "            internal_results.append({'epoch': e, 'test loss':test_loss, 'accuracy':acc, 'temp':float(h[1].detach().cpu().numpy()),\n",
    "                                     'beta':float(h[0].detach().cpu().numpy())})\n",
    "            print (internal_results[-1])\n",
    "\n",
    "            \n",
    "    with open('exp2_cnn_distil_adam_h.jsonl', 'a') as out:\n",
    "        out.write(json.dumps({'results':internal_results, 'version': experiment_version})+'\\n')"
   ]
  },
  {
   "cell_type": "code",
   "execution_count": null,
   "metadata": {
    "colab": {
     "base_uri": "https://localhost:8080/"
    },
    "id": "P3e-QJ3RYVEH",
    "outputId": "ab55baa4-dde7-4c4b-feaa-edd180d4cff2"
   },
   "outputs": [],
   "source": [
    "\"\"\"\n",
    "посмотреть, куда сходятся гиперпараметры.\n",
    "Задача скорее всего невыпуклая по гиперпараметрам, поэтому может быть несколько точек экстремума.\n",
    "\n",
    "Взять одно, наилучшее значение гиперпараметров.\n",
    "\n",
    "Посчитать дистилляцию БЕЗ оптимизации гиперпараметров с наилушчими значениями.\n",
    "\n",
    "НЕ ЗАБУДЬ ПОМЕНЯТЬ ИМЯ ФАЙЛА ДЛЯ СОХРАНЕНИЯ\n",
    "\"\"\""
   ]
  },
  {
   "cell_type": "code",
   "execution_count": null,
   "metadata": {
    "id": "8das3HQtYVEI"
   },
   "outputs": [],
   "source": [
    "\"\"\"\n",
    "Посчитать дистилляцию с оптимизацей гиперпараметров, в качестве начальной точки взять не случайные значения,\n",
    "а start_beta, start_temp.\n",
    "\n",
    "НЕ ЗАБУДЬ ПОМЕНЯТЬ ИМЯ ФАЙЛА ДЛЯ СОХРАНЕНИЯ\n",
    "\"\"\""
   ]
  },
  {
   "cell_type": "code",
   "execution_count": null,
   "metadata": {},
   "outputs": [],
   "source": [
    "\"\"\"\n",
    "Построить график функции потерь на тесте в зависимости от эпохи. \n",
    "На графике должны быть линии для :\n",
    "    - оптимизации без дистилляции\n",
    "    - оптимизации с дистилляцией без оптимизации гиперпараметров, значения соответсвутют start_temp, start_beta\n",
    "    - оптимизации с дистилляцией без оптимизации гиперпараметров, значения соответсвутют оптимизированным значениям гиперпараметров\n",
    "    - оптимизации с дистилляцией c оптимизацией гиперпараметров, начальное приближение соответсвуeт start_temp, start_beta\n",
    "    - оптимизации с дистилляцией c оптимизацией гиперпараметров, начальное приближение случайное\n",
    "\"\"\""
   ]
  },
  {
   "cell_type": "code",
   "execution_count": null,
   "metadata": {
    "id": "6oeb3wf-YVEI"
   },
   "outputs": [],
   "source": [
    "\"\"\"\n",
    "Построить график точности на тесте в зависимости от эпохи. \n",
    "На графике должны быть линии для :\n",
    "    - оптимизации без дистилляции\n",
    "    - оптимизации с дистилляцией без оптимизации гиперпараметров, значения соответсвутют start_temp, start_beta\n",
    "    - оптимизации с дистилляцией без оптимизации гиперпараметров, значения соответсвутют оптимизированным значениям гиперпараметров\n",
    "    - оптимизации с дистилляцией c оптимизацией гиперпараметров, начальное приближение соответсвуeт start_temp, start_beta\n",
    "    - оптимизации с дистилляцией c оптимизацией гиперпараметров, начальное приближение случайное\n",
    "\"\"\""
   ]
  },
  {
   "cell_type": "code",
   "execution_count": null,
   "metadata": {
    "id": "Y5WBwGScYVEI"
   },
   "outputs": [],
   "source": [
    "\"\"\"\n",
    "Построить график беты в зависимости от эпохи. \n",
    "На графике должны быть линии для :    \n",
    "    - оптимизации с дистилляцией без оптимизации гиперпараметров, значения соответсвутют start_temp, start_beta\n",
    "    - оптимизации с дистилляцией без оптимизации гиперпараметров, значения соответсвутют оптимизированным значениям гиперпараметров\n",
    "    - оптимизации с дистилляцией c оптимизацией гиперпараметров, начальное приближение соответсвуeт start_temp, start_beta\n",
    "    - оптимизации с дистилляцией c оптимизацией гиперпараметров, начальное приближение случайное\n",
    "\"\"\""
   ]
  },
  {
   "cell_type": "code",
   "execution_count": null,
   "metadata": {
    "colab": {
     "base_uri": "https://localhost:8080/",
     "height": 569
    },
    "id": "JNqUHoMyYVEJ",
    "outputId": "eb8892b8-f681-4234-aadc-5f5e9c2835df",
    "scrolled": false
   },
   "outputs": [],
   "source": [
    "\"\"\"\n",
    "Построить график температуры в зависимости от эпохи. \n",
    "На графике должны быть линии для :    \n",
    "    - оптимизации с дистилляцией без оптимизации гиперпараметров, значения соответсвутют start_temp, start_beta\n",
    "    - оптимизации с дистилляцией без оптимизации гиперпараметров, значения соответсвутют оптимизированным значениям гиперпараметров\n",
    "    - оптимизации с дистилляцией c оптимизацией гиперпараметров, начальное приближение соответсвуeт start_temp, start_beta\n",
    "    - оптимизации с дистилляцией c оптимизацией гиперпараметров, начальное приближение случайное\n",
    "\"\"\""
   ]
  }
 ],
 "metadata": {
  "accelerator": "GPU",
  "colab": {
   "collapsed_sections": [],
   "name": "basic_distillation.ipynb",
   "provenance": []
  },
  "kernelspec": {
   "display_name": "Python 3",
   "language": "python",
   "name": "python3"
  },
  "language_info": {
   "codemirror_mode": {
    "name": "ipython",
    "version": 3
   },
   "file_extension": ".py",
   "mimetype": "text/x-python",
   "name": "python",
   "nbconvert_exporter": "python",
   "pygments_lexer": "ipython3",
   "version": "3.8.5"
  },
  "widgets": {
   "application/vnd.jupyter.widget-state+json": {
    "17b7b0af2d0d44bd8ce06e58ace197a8": {
     "model_module": "@jupyter-widgets/controls",
     "model_name": "ProgressStyleModel",
     "state": {
      "_model_module": "@jupyter-widgets/controls",
      "_model_module_version": "1.5.0",
      "_model_name": "ProgressStyleModel",
      "_view_count": null,
      "_view_module": "@jupyter-widgets/base",
      "_view_module_version": "1.2.0",
      "_view_name": "StyleView",
      "bar_color": null,
      "description_width": "initial"
     }
    },
    "1d8bc56fc12e40889bd1df1483a0d73d": {
     "model_module": "@jupyter-widgets/controls",
     "model_name": "DescriptionStyleModel",
     "state": {
      "_model_module": "@jupyter-widgets/controls",
      "_model_module_version": "1.5.0",
      "_model_name": "DescriptionStyleModel",
      "_view_count": null,
      "_view_module": "@jupyter-widgets/base",
      "_view_module_version": "1.2.0",
      "_view_name": "StyleView",
      "description_width": ""
     }
    },
    "53248d8fbab446d8a72db271cf823d95": {
     "model_module": "@jupyter-widgets/controls",
     "model_name": "HBoxModel",
     "state": {
      "_dom_classes": [],
      "_model_module": "@jupyter-widgets/controls",
      "_model_module_version": "1.5.0",
      "_model_name": "HBoxModel",
      "_view_count": null,
      "_view_module": "@jupyter-widgets/controls",
      "_view_module_version": "1.5.0",
      "_view_name": "HBoxView",
      "box_style": "",
      "children": [
       "IPY_MODEL_850d3abafbe64e578a463a0a2db1bb99",
       "IPY_MODEL_c978d46124164b9aaed7c1ff7b20310f"
      ],
      "layout": "IPY_MODEL_bedde58028144bacab1f4bfa8963bc8b"
     }
    },
    "850d3abafbe64e578a463a0a2db1bb99": {
     "model_module": "@jupyter-widgets/controls",
     "model_name": "FloatProgressModel",
     "state": {
      "_dom_classes": [],
      "_model_module": "@jupyter-widgets/controls",
      "_model_module_version": "1.5.0",
      "_model_name": "FloatProgressModel",
      "_view_count": null,
      "_view_module": "@jupyter-widgets/controls",
      "_view_module_version": "1.5.0",
      "_view_name": "ProgressView",
      "bar_style": "success",
      "description": "",
      "description_tooltip": null,
      "layout": "IPY_MODEL_e7529646346a4d739d233314cfce210c",
      "max": 170498071,
      "min": 0,
      "orientation": "horizontal",
      "style": "IPY_MODEL_17b7b0af2d0d44bd8ce06e58ace197a8",
      "value": 170498071
     }
    },
    "bedde58028144bacab1f4bfa8963bc8b": {
     "model_module": "@jupyter-widgets/base",
     "model_name": "LayoutModel",
     "state": {
      "_model_module": "@jupyter-widgets/base",
      "_model_module_version": "1.2.0",
      "_model_name": "LayoutModel",
      "_view_count": null,
      "_view_module": "@jupyter-widgets/base",
      "_view_module_version": "1.2.0",
      "_view_name": "LayoutView",
      "align_content": null,
      "align_items": null,
      "align_self": null,
      "border": null,
      "bottom": null,
      "display": null,
      "flex": null,
      "flex_flow": null,
      "grid_area": null,
      "grid_auto_columns": null,
      "grid_auto_flow": null,
      "grid_auto_rows": null,
      "grid_column": null,
      "grid_gap": null,
      "grid_row": null,
      "grid_template_areas": null,
      "grid_template_columns": null,
      "grid_template_rows": null,
      "height": null,
      "justify_content": null,
      "justify_items": null,
      "left": null,
      "margin": null,
      "max_height": null,
      "max_width": null,
      "min_height": null,
      "min_width": null,
      "object_fit": null,
      "object_position": null,
      "order": null,
      "overflow": null,
      "overflow_x": null,
      "overflow_y": null,
      "padding": null,
      "right": null,
      "top": null,
      "visibility": null,
      "width": null
     }
    },
    "c978d46124164b9aaed7c1ff7b20310f": {
     "model_module": "@jupyter-widgets/controls",
     "model_name": "HTMLModel",
     "state": {
      "_dom_classes": [],
      "_model_module": "@jupyter-widgets/controls",
      "_model_module_version": "1.5.0",
      "_model_name": "HTMLModel",
      "_view_count": null,
      "_view_module": "@jupyter-widgets/controls",
      "_view_module_version": "1.5.0",
      "_view_name": "HTMLView",
      "description": "",
      "description_tooltip": null,
      "layout": "IPY_MODEL_e9d22b3f83974cc98264bb8305f6e9cd",
      "placeholder": "​",
      "style": "IPY_MODEL_1d8bc56fc12e40889bd1df1483a0d73d",
      "value": " 170499072/? [05:33&lt;00:00, 511435.82it/s]"
     }
    },
    "e7529646346a4d739d233314cfce210c": {
     "model_module": "@jupyter-widgets/base",
     "model_name": "LayoutModel",
     "state": {
      "_model_module": "@jupyter-widgets/base",
      "_model_module_version": "1.2.0",
      "_model_name": "LayoutModel",
      "_view_count": null,
      "_view_module": "@jupyter-widgets/base",
      "_view_module_version": "1.2.0",
      "_view_name": "LayoutView",
      "align_content": null,
      "align_items": null,
      "align_self": null,
      "border": null,
      "bottom": null,
      "display": null,
      "flex": null,
      "flex_flow": null,
      "grid_area": null,
      "grid_auto_columns": null,
      "grid_auto_flow": null,
      "grid_auto_rows": null,
      "grid_column": null,
      "grid_gap": null,
      "grid_row": null,
      "grid_template_areas": null,
      "grid_template_columns": null,
      "grid_template_rows": null,
      "height": null,
      "justify_content": null,
      "justify_items": null,
      "left": null,
      "margin": null,
      "max_height": null,
      "max_width": null,
      "min_height": null,
      "min_width": null,
      "object_fit": null,
      "object_position": null,
      "order": null,
      "overflow": null,
      "overflow_x": null,
      "overflow_y": null,
      "padding": null,
      "right": null,
      "top": null,
      "visibility": null,
      "width": null
     }
    },
    "e9d22b3f83974cc98264bb8305f6e9cd": {
     "model_module": "@jupyter-widgets/base",
     "model_name": "LayoutModel",
     "state": {
      "_model_module": "@jupyter-widgets/base",
      "_model_module_version": "1.2.0",
      "_model_name": "LayoutModel",
      "_view_count": null,
      "_view_module": "@jupyter-widgets/base",
      "_view_module_version": "1.2.0",
      "_view_name": "LayoutView",
      "align_content": null,
      "align_items": null,
      "align_self": null,
      "border": null,
      "bottom": null,
      "display": null,
      "flex": null,
      "flex_flow": null,
      "grid_area": null,
      "grid_auto_columns": null,
      "grid_auto_flow": null,
      "grid_auto_rows": null,
      "grid_column": null,
      "grid_gap": null,
      "grid_row": null,
      "grid_template_areas": null,
      "grid_template_columns": null,
      "grid_template_rows": null,
      "height": null,
      "justify_content": null,
      "justify_items": null,
      "left": null,
      "margin": null,
      "max_height": null,
      "max_width": null,
      "min_height": null,
      "min_width": null,
      "object_fit": null,
      "object_position": null,
      "order": null,
      "overflow": null,
      "overflow_x": null,
      "overflow_y": null,
      "padding": null,
      "right": null,
      "top": null,
      "visibility": null,
      "width": null
     }
    }
   }
  }
 },
 "nbformat": 4,
 "nbformat_minor": 1
}
